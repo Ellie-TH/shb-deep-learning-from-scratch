{
 "cells": [
  {
   "cell_type": "markdown",
   "metadata": {},
   "source": [
    "# CH03"
   ]
  },
  {
   "cell_type": "markdown",
   "metadata": {},
   "source": [
    "## 파일 설명\n",
    "| 파일명 | 파일 용도 | 관련 절 | 페이지 |\n",
    "|:--   |:--      |:--    |:--      |\n",
    "| mnist_show.py | MNIST 데이터셋을 읽어와 훈련 데이터 중 0번째 이미지를 화면에 출력합니다. | 3.6.1 손글씨 데이터셋 | 99 |\n",
    "| neuralnet_mnist.py | 신경망으로 손글씨 숫자 그림을 추론합니다. 입력층, 은닉층1, 은닉층2, 출력층의 뉴런 수는 각각 784, 50, 100, 10입니다. | 3.6.2 신경망의 추론 처리 | 100 |\n",
    "| neuralnet_mnist_batch.py | neuralnet_mnist.py에 배치 처리 기능을 더했습니다. | 3.6.3 배치 처리 | 104 |\n",
    "| relu.py | ReLU 함수를 구현한 코드입니다. | 3.2.7 ReLU 함수 | 76 |\n",
    "| sample_weight.pkl | 미리 학습해둔 가종치 매개변수의 값들입니다. | 3.6.2 신경망의 추론 처리 | 100 |\n",
    "| sig_step_compare.py | 시그모이드 함수와 계단 함수의 그래프 모양을 비교해봅니다. | 3.2.5 시그모이드 함수와 계단 함수 비교 | 74 |\n",
    "| sigmoid.py | 시그모이드 함수를 구현한 코드입니다. | 3.2.4 시그모이드 함수 구현하기 | 72 |\n",
    "| step_function.py | 계단 함수를 구현한 코드입니다. | 3.2.3 계단 함수의 그래프 | 70 |"
   ]
  },
  {
   "cell_type": "markdown",
   "metadata": {},
   "source": [
    "## 3.1 퍼셉트론에서 신경망으로\n",
    "* 활성화 함수의 등장: 입력 신호의 총합을 출력 신호로 변환하는 함수"
   ]
  },
  {
   "cell_type": "markdown",
   "metadata": {},
   "source": [
    "## 3.2 활성화 함수"
   ]
  },
  {
   "cell_type": "code",
   "execution_count": 1,
   "metadata": {},
   "outputs": [],
   "source": [
    "# 3.2.2 계단 함수 구현하기\n",
    "\n",
    "def step_function(x): # 단일 실수만 입력 가능\n",
    "    if x > 0:\n",
    "        return 1\n",
    "    else:\n",
    "        return 0\n",
    "\n",
    "# 입력으로 단일 변수(실수형)에 넘파이 배열도 사용할 수 있도록 수정\n",
    "\n",
    "def step_function(x): # 단일 실수 및 넘파이 배열 인수로 사용 가능\n",
    "    y = x > 0\n",
    "    return y.astype(np.int) # astype(): True:1, False: 0으로 변환"
   ]
  },
  {
   "cell_type": "code",
   "execution_count": 2,
   "metadata": {},
   "outputs": [],
   "source": [
    "# 3.2.3 계단 함수의 그래프\n",
    "\n",
    "import numpy as np\n",
    "import matplotlib.pylab as plt"
   ]
  },
  {
   "cell_type": "code",
   "execution_count": 3,
   "metadata": {},
   "outputs": [
    {
     "data": {
      "image/png": "[encoded data removed]",
      "text/plain": [
       "<Figure size 432x288 with 1 Axes>"
      ]
     },
     "metadata": {
      "needs_background": "light"
     },
     "output_type": "display_data"
    }
   ],
   "source": [
    "def step_function(x):\n",
    "    return np.array(x > 0, dtype=np.int) # 위의 함수보다 더 간단하게\n",
    "\n",
    "# (응용) 더 간단하게!\n",
    "step_function = lambda x: (x > 0).astype(np.int)\n",
    "\n",
    "x = np.arange(-5.0, 5.0, 0.1) # -5에서 5까지 0.1 간격으로 넘파이 배열 생성\n",
    "y = step_function(x)\n",
    "plt.plot(x, y)\n",
    "plt.ylim(-0.1, 1.1) # y축 범위 지정\n",
    "plt.show()"
   ]
  },
  {
   "cell_type": "code",
   "execution_count": 4,
   "metadata": {},
   "outputs": [
    {
     "name": "stdout",
     "output_type": "stream",
     "text": [
      "[0.26894142 0.73105858 0.88079708]\n"
     ]
    }
   ],
   "source": [
    "# 3.2.4 시그모이드 함수 구현하기\n",
    "\n",
    "def sigmoid(x):\n",
    "    return 1 / (1 + np.exp(-x))\n",
    "\n",
    "x = np.array([-1.0, 1.0, 2.0])\n",
    "print(sigmoid(x)) # 시그모이드 출력 확인"
   ]
  },
  {
   "cell_type": "code",
   "execution_count": 5,
   "metadata": {},
   "outputs": [
    {
     "data": {
      "image/png": "[encoded data removed]",
      "text/plain": [
       "<Figure size 432x288 with 1 Axes>"
      ]
     },
     "metadata": {
      "needs_background": "light"
     },
     "output_type": "display_data"
    }
   ],
   "source": [
    "# 시그모이드 그래프\n",
    "x = np.arange(-5.0, 5.0, 0.1)\n",
    "y = sigmoid(x)\n",
    "plt.plot(x, y)\n",
    "plt.ylim(-0.1, 1.1) # y축 범위 지정\n",
    "plt.show()"
   ]
  },
  {
   "cell_type": "code",
   "execution_count": 6,
   "metadata": {},
   "outputs": [
    {
     "name": "stdout",
     "output_type": "stream",
     "text": [
      "# coding: utf-8\n",
      "import numpy as np\n",
      "import matplotlib.pylab as plt\n",
      "\n",
      "\n",
      "def sigmoid(x):\n",
      "    return 1 / (1 + np.exp(-x))    \n",
      "\n",
      "\n",
      "def step_function(x):\n",
      "    return np.array(x > 0, dtype=np.int)\n",
      "\n",
      "x = np.arange(-5.0, 5.0, 0.1)\n",
      "y1 = sigmoid(x)\n",
      "y2 = step_function(x)\n",
      "\n",
      "plt.plot(x, y1)\n",
      "plt.plot(x, y2, 'k--')\n",
      "plt.ylim(-0.1, 1.1) # y축 범위 지정\n",
      "plt.show()\n"
     ]
    }
   ],
   "source": [
    "# 3.2.5 시그모이드 함수와 계단 함수 비교\n",
    "!cat ../src/ch03/sig_step_compare.py"
   ]
  },
  {
   "cell_type": "code",
   "execution_count": 7,
   "metadata": {},
   "outputs": [
    {
     "data": {
      "image/png": "[encoded data removed]",
      "text/plain": [
       "<Figure size 432x288 with 1 Axes>"
      ]
     },
     "metadata": {
      "needs_background": "light"
     },
     "output_type": "display_data"
    }
   ],
   "source": [
    "# 교재 내용 직접 구현 (각 함수 정의는 이미 위에서 정의한 걸 사용)\n",
    "\n",
    "x = np.arange(-5.0, 5.0, 0.1)\n",
    "y1 = sigmoid(x)\n",
    "y2 = step_function(x)\n",
    "\n",
    "plt.plot(x, y1)\n",
    "plt.plot(x, y2, 'k--') # 계단 함수는 검정색(k) 점선으로\n",
    "plt.ylim(-0.1, 1.1) # y축 범위 지정\n",
    "plt.show()"
   ]
  },
  {
   "cell_type": "markdown",
   "metadata": {},
   "source": [
    "* 시그모이드 vs 계단 함수\n",
    " - 차이점 (시그모이드 기준): 매끄러움, 실수값 반환\n",
    " - 계단 : 시그모이드 = 시시오도시 : 물레방아\n",
    " - 공통점: 입력이 작으면 출력이 0에 가깝고, 입력이 커지면 출력이 1에 가까워지는 구조. 입력이 아무리  작거나 커도 출력은 0에서 1사이\n",
    " \n",
    " - 중요한 공통점: 비선형 함수! 선형 함수로 만들면 층을 아무리 깊게 해도 '은닉층이 없는 네트워크'로 똑같은 기능을 할 수 있어 여러 층으로 구성하는 이점을 살릴 수 없음"
   ]
  },
  {
   "cell_type": "code",
   "execution_count": 8,
   "metadata": {},
   "outputs": [],
   "source": [
    "# 3.2.7 ReLU 함수 (Rectified Linear Unit; 렐루)\n",
    "\n",
    "def relu(x): # 입력이 0을 넘으면 입력 그대로, 0 이하이면 0을 출력\n",
    "    return np.maximum(0, x)"
   ]
  },
  {
   "cell_type": "markdown",
   "metadata": {},
   "source": [
    "## 3.3 다차원 배열의 계산"
   ]
  },
  {
   "cell_type": "code",
   "execution_count": 9,
   "metadata": {},
   "outputs": [
    {
     "name": "stdout",
     "output_type": "stream",
     "text": [
      "[1 2 3 4]\n",
      "1\n",
      "(4,)\n",
      "4\n"
     ]
    }
   ],
   "source": [
    "# 3.3.1 다차원 배열\n",
    "import numpy as np\n",
    "A = np.array([1, 2, 3, 4]) # 1차원 배열 생성\n",
    "print(A)\n",
    "\n",
    "print(np.ndim(A)) # 배열의 차원수는 1\n",
    "print(A.shape) # 배열의 형상 확인 (1차원이므로 값이 1개인 튜플을 반환함)\n",
    "print(A.shape[0]) # 1차원째 배열의 크기 확인: 4"
   ]
  },
  {
   "cell_type": "code",
   "execution_count": 10,
   "metadata": {},
   "outputs": [
    {
     "name": "stdout",
     "output_type": "stream",
     "text": [
      "[[1 2]\n",
      " [3 4]\n",
      " [5 6]]\n",
      "2\n",
      "(3, 2)\n"
     ]
    }
   ],
   "source": [
    "# 2차원 배열\n",
    "B = np.array([[1,2], [3,4], [5,6]])\n",
    "print(B)\n",
    "\n",
    "print(np.ndim(B)) # 2차원이므로 2\n",
    "print(B.shape) # B의 형상은 (3행,2열) "
   ]
  },
  {
   "cell_type": "code",
   "execution_count": 12,
   "metadata": {},
   "outputs": [
    {
     "name": "stdout",
     "output_type": "stream",
     "text": [
      "(2, 2)\n",
      "(2, 2)\n",
      "[[19 22]\n",
      " [43 50]]\n"
     ]
    }
   ],
   "source": [
    "# 3.3.2 행렬의 곱: np.dot 활용\n",
    "\n",
    "A = np.array([[1,2], [3,4]])\n",
    "print(A.shape) # (2,2)\n",
    "B = np.array([[5,6], [7,8]])\n",
    "print(B.shape) # (2,2)\n",
    "\n",
    "print(np.dot(A,B)) # 행렬의 곱 A * B 계산, matmul"
   ]
  },
  {
   "cell_type": "code",
   "execution_count": 13,
   "metadata": {},
   "outputs": [
    {
     "name": "stdout",
     "output_type": "stream",
     "text": [
      "(2, 3)\n",
      "(2, 3)\n",
      "[[22 28]\n",
      " [49 64]]\n"
     ]
    }
   ],
   "source": [
    "# 행렬 곱의 다른 예: 2x3 행렬과 3x2 행렬의 곱\n",
    "A = np.array([[1,2,3], [4,5,6]])\n",
    "print(A.shape) # (2,3)\n",
    "\n",
    "B = np.array([[1,2], [3,4], [5,6]])\n",
    "print(A.shape) # (3,2)\n",
    "\n",
    "print(np.dot(A, B))"
   ]
  },
  {
   "cell_type": "code",
   "execution_count": 14,
   "metadata": {},
   "outputs": [
    {
     "name": "stdout",
     "output_type": "stream",
     "text": [
      "(2, 2)\n",
      "(2, 3)\n"
     ]
    },
    {
     "ename": "ValueError",
     "evalue": "shapes (2,3) and (2,2) not aligned: 3 (dim 1) != 2 (dim 0)",
     "output_type": "error",
     "traceback": [
      "\u001b[0;31m---------------------------------------------------------------------------\u001b[0m",
      "\u001b[0;31mValueError\u001b[0m                                Traceback (most recent call last)",
      "\u001b[0;32m<ipython-input-14-286a2b186f15>\u001b[0m in \u001b[0;36m<module>\u001b[0;34m\u001b[0m\n\u001b[1;32m      3\u001b[0m \u001b[0mprint\u001b[0m\u001b[0;34m(\u001b[0m\u001b[0mC\u001b[0m\u001b[0;34m.\u001b[0m\u001b[0mshape\u001b[0m\u001b[0;34m)\u001b[0m \u001b[0;31m# (2,3)\u001b[0m\u001b[0;34m\u001b[0m\u001b[0;34m\u001b[0m\u001b[0m\n\u001b[1;32m      4\u001b[0m \u001b[0mprint\u001b[0m\u001b[0;34m(\u001b[0m\u001b[0mA\u001b[0m\u001b[0;34m.\u001b[0m\u001b[0mshape\u001b[0m\u001b[0;34m)\u001b[0m \u001b[0;31m# (2,3)\u001b[0m\u001b[0;34m\u001b[0m\u001b[0;34m\u001b[0m\u001b[0m\n\u001b[0;32m----> 5\u001b[0;31m \u001b[0mprint\u001b[0m\u001b[0;34m(\u001b[0m\u001b[0mnp\u001b[0m\u001b[0;34m.\u001b[0m\u001b[0mdot\u001b[0m\u001b[0;34m(\u001b[0m\u001b[0mA\u001b[0m\u001b[0;34m,\u001b[0m \u001b[0mC\u001b[0m\u001b[0;34m)\u001b[0m\u001b[0;34m)\u001b[0m\u001b[0;34m\u001b[0m\u001b[0;34m\u001b[0m\u001b[0m\n\u001b[0m",
      "\u001b[0;31mValueError\u001b[0m: shapes (2,3) and (2,2) not aligned: 3 (dim 1) != 2 (dim 0)"
     ]
    }
   ],
   "source": [
    "# 행렬 곱 조건이 안 맞아 에러나는 경우\n",
    "C = np.array([[1,2], [3,4]])\n",
    "print(C.shape) # (2,3)\n",
    "print(A.shape) # (2,3)\n",
    "print(np.dot(A, C))"
   ]
  },
  {
   "cell_type": "code",
   "execution_count": 15,
   "metadata": {},
   "outputs": [
    {
     "name": "stdout",
     "output_type": "stream",
     "text": [
      "(3, 2)\n",
      "(2,)\n",
      "[23 53 83]\n"
     ]
    }
   ],
   "source": [
    "# A가 2차원, B가 1차원일때도 '대응하는 차원의 원소 수를 일치시켜라'\n",
    "A = np.array([[1,2], [3,4], [5,6]])\n",
    "print(A.shape) # (3,2)\n",
    "B = np.array([7,8])\n",
    "print(B.shape) # (2,)\n",
    "print(np.dot(A,B))"
   ]
  },
  {
   "cell_type": "code",
   "execution_count": 16,
   "metadata": {},
   "outputs": [
    {
     "name": "stdout",
     "output_type": "stream",
     "text": [
      "[ 76 100]\n",
      "[ 76 100]\n"
     ]
    }
   ],
   "source": [
    "# (응용) 벡터를 앞쪽에 붙이면 자동적으로 열벡터(세로방향)으로 간주하고 계산하는듯\n",
    "C = np.array([7,8,9])\n",
    "print(np.dot(C,A)) # 행렬 x (3,2)\n",
    "print(np.matmul(C,A))"
   ]
  },
  {
   "cell_type": "code",
   "execution_count": 17,
   "metadata": {},
   "outputs": [
    {
     "name": "stdout",
     "output_type": "stream",
     "text": [
      "(2,)\n",
      "[[1 3 5]\n",
      " [2 4 6]]\n",
      "(2, 3)\n",
      "[ 5 11 17]\n"
     ]
    }
   ],
   "source": [
    "# 3.3.3 신경망에서의 행렬 곱: 행렬의 곱으로 신경망의 계산 수행 가능\n",
    "X = np.array([1, 2])\n",
    "print(X.shape) # (2,)\n",
    "W = np.array([[1,3,5], [2,4,6]])\n",
    "print(W)\n",
    "print(W.shape) # (2,3)\n",
    "Y = np.dot(X, W) # 신경망 가중치 곱을 한꺼번에 계산\n",
    "print(Y)"
   ]
  },
  {
   "cell_type": "markdown",
   "metadata": {},
   "source": [
    "## 3.4 3층 신경망 구현하기\n",
    "* 신경망에서의 계산을 행렬 계산으로 정리\n",
    "* 표기법\n",
    " - $W_{12}^{(1)}$: (1): 1층의 가중치, 아래첨자 처음 - 다음층의 1번째 뉴런, 두번째 - 앞 층의 2번째 뉴런"
   ]
  },
  {
   "cell_type": "code",
   "execution_count": 20,
   "metadata": {},
   "outputs": [
    {
     "name": "stdout",
     "output_type": "stream",
     "text": [
      "(2, 3)\n",
      "(2,)\n",
      "(2,)\n"
     ]
    }
   ],
   "source": [
    "# 3.4.2 각 층의 신호 전달 구현하기 - 넘파이의 다차원 배열을 사용해서 구현\n",
    "\n",
    "# 입력층 -> 1층\n",
    "X = np.array([1.0, 0.5]) # 입력 (원소가 2개)\n",
    "W1 = np.array([[0.1, 0.3, 0.5], [0.2, 0.4, 0.6]]) # 1층 가중치 (2x3 행렬) \n",
    "B1 = np.array([0.1, 0.2, 0.3]) # 1층 편향(bias) (1층 3개 원소에 대응)\n",
    "\n",
    "print(W1.shape) # (2,3)\n",
    "print(X.shape) # (2,)\n",
    "print(B.shape) # (3,)\n",
    "\n",
    "A1 = np.dot(X, W1) + B1"
   ]
  },
  {
   "cell_type": "code",
   "execution_count": 21,
   "metadata": {},
   "outputs": [
    {
     "name": "stdout",
     "output_type": "stream",
     "text": [
      "[0.3 0.7 1.1]\n",
      "[0.57444252 0.66818777 0.75026011]\n"
     ]
    }
   ],
   "source": [
    "# 시그모이드를 활성화 함수로 사용\n",
    "Z1 = sigmoid(A1)\n",
    "\n",
    "print(A1)\n",
    "print(Z1)"
   ]
  },
  {
   "cell_type": "code",
   "execution_count": 22,
   "metadata": {},
   "outputs": [
    {
     "name": "stdout",
     "output_type": "stream",
     "text": [
      "(3,)\n",
      "(3, 2)\n",
      "(2,)\n"
     ]
    }
   ],
   "source": [
    "# 1층 -> 2층\n",
    "W2 = np.array([[0.1, 0.4], [0.2, 0.5], [0.3, 0.6]])\n",
    "B2 = np.array([0.1, 0.2])\n",
    "\n",
    "print(Z1.shape) # (3,)\n",
    "print(W2.shape) # (3,2)\n",
    "print(B2.shape) # (2,)\n",
    "\n",
    "A2 = np.dot(Z1, W2) + B2\n",
    "Z2 = sigmoid(A2)"
   ]
  },
  {
   "cell_type": "code",
   "execution_count": 23,
   "metadata": {},
   "outputs": [],
   "source": [
    "# 2층 -> 출력층\n",
    "\n",
    "# 활성화 함수를 항등 함수로 사용\n",
    "# 출력층의 활서화 함수는 풀고자 하는 문제의 성질에 맞게 정의 (예: 회귀 - 항등함수, 2클래스 분류 - 시그모이드, 다중 클래스 분류 - 소프트맥스)\n",
    "\n",
    "def identify_function(x):\n",
    "    return x\n",
    "\n",
    "W3 = np.array([[0.1,0.3], [0.2,0.4]])\n",
    "B3 = np.array([0.1, 0.2])\n",
    "\n",
    "A3 = np.dot(Z2,W3) + B3\n",
    "Y = identify_function(A3) # Y = A3 과 같음"
   ]
  },
  {
   "cell_type": "code",
   "execution_count": 26,
   "metadata": {},
   "outputs": [
    {
     "name": "stdout",
     "output_type": "stream",
     "text": [
      "[0.31682708 0.69627909]\n"
     ]
    }
   ],
   "source": [
    "# 3.4.3 구현 정리\n",
    "\n",
    "# 위의 실행 내용들을 함수들로 정리\n",
    "# 신경망 구현의 관례에 따라 가중치만 대문자, 편향 및 중간 결과는 소문자로\n",
    "\n",
    "def init_network():\n",
    "    network = {}\n",
    "    network['W1'] = np.array([[0.1,0.3,0.5], [0.2,0.4,0.6]])\n",
    "    network['b1'] = np.array([0.1,0.2,0.3])\n",
    "    network['W2'] = np.array([[0.1,0.4], [0.2,0.5], [0.3,0.6]])\n",
    "    network['b2'] = np.array([0.1, 0.2])\n",
    "    network['W3'] = np.array([[0.1,0.3], [0.2,0.4]])\n",
    "    network['b3'] = np.array([0.1,0.2])\n",
    "    \n",
    "    return network\n",
    "\n",
    "def forward(network, x):\n",
    "    W1, W2, W3 = network['W1'], network['W2'], network['W3']\n",
    "    b1, b2, b3 = network['b1'], network['b2'], network['b3']\n",
    "    \n",
    "    a1 = np.dot(x, W1) + b1\n",
    "    z1 = sigmoid(a1)\n",
    "    a2 = np.dot(z1, W2) + b2\n",
    "    z2 = sigmoid(a2)\n",
    "    a3 = np.dot(z2, W3) + b3\n",
    "    y = identify_function(a3)\n",
    "    \n",
    "    return y\n",
    "\n",
    "network = init_network()\n",
    "x = np.array([1.0,0.5])\n",
    "y = forward(network, x)\n",
    "print(y) # [0.317, 0.696]"
   ]
  },
  {
   "cell_type": "markdown",
   "metadata": {},
   "source": [
    "# 3.5 출력층 설계하기"
   ]
  },
  {
   "cell_type": "code",
   "execution_count": 27,
   "metadata": {},
   "outputs": [
    {
     "name": "stdout",
     "output_type": "stream",
     "text": [
      "[ 1.34985881 18.17414537 54.59815003]\n",
      "74.1221542101633\n",
      "[0.01821127 0.24519181 0.73659691]\n"
     ]
    }
   ],
   "source": [
    "# 3.5.1 항등 함수와 소프트맥스 함수 구현하기\n",
    "\n",
    "# 소프트맥스 계산 과정 진행\n",
    "a = np.array([0.3,2.9,4.0])\n",
    "\n",
    "exp_a = np.exp(a) # 지수 함수\n",
    "print(exp_a) # [1.35, 18.17, 54.60]\n",
    "\n",
    "sum_exp_a = np.sum(exp_a) # 지수 함수의 합\n",
    "print(sum_exp_a) # 74.122\n",
    "\n",
    "y = exp_a / sum_exp_a\n",
    "print(y) # [0.018, 0.2452, 0.7366]"
   ]
  },
  {
   "cell_type": "code",
   "execution_count": 29,
   "metadata": {},
   "outputs": [],
   "source": [
    "# 소프트맥스 함수로 구현 (잠재 결함이 있음)\n",
    "def softmax(a):\n",
    "    exp_a = np.exp(a)\n",
    "    sum_exp_a = np.sum(exp_a)\n",
    "    y = exp_a / sum_exp_a\n",
    "    \n",
    "    return y"
   ]
  },
  {
   "cell_type": "code",
   "execution_count": 32,
   "metadata": {},
   "outputs": [
    {
     "name": "stdout",
     "output_type": "stream",
     "text": [
      "[nan nan nan]\n"
     ]
    },
    {
     "name": "stderr",
     "output_type": "stream",
     "text": [
      "/Users/a60029864/anaconda3/lib/python3.7/site-packages/ipykernel_launcher.py:5: RuntimeWarning: invalid value encountered in true_divide\n",
      "  \"\"\"\n"
     ]
    }
   ],
   "source": [
    "# 3.5.2 소프트맥스 함수 구현시 주의점: 지수 함수 적용시 오버플로 가능성\n",
    "# -> 입력신호 중 최대값으로 모든 값을 빼도 계산상 결과는 동일하고 오버플로 이슈도 해결\n",
    "\n",
    "a = np.array([1010, 1000, 990])\n",
    "print(softmax(a)) # 오버플로 대책 적용 전"
   ]
  },
  {
   "cell_type": "code",
   "execution_count": 34,
   "metadata": {},
   "outputs": [
    {
     "name": "stdout",
     "output_type": "stream",
     "text": [
      "[9.99954600e-01 4.53978686e-05 2.06106005e-09]\n"
     ]
    }
   ],
   "source": [
    "# 오버플로 대책 적용한 소프트맥스 함수\n",
    "def softmax(a):\n",
    "    c = np.max(a)\n",
    "    exp_a = np.exp(a - c) # 오버플로 대책\n",
    "    sum_exp_a = np.sum(exp_a)\n",
    "    y = exp_a / sum_exp_a\n",
    "    \n",
    "    return y\n",
    "\n",
    "print(softmax(a)) # 오버플로 이슈 해결되어 예상했던 값 계산됨"
   ]
  },
  {
   "cell_type": "code",
   "execution_count": 36,
   "metadata": {},
   "outputs": [
    {
     "name": "stdout",
     "output_type": "stream",
     "text": [
      "[0.01821127 0.24519181 0.73659691]\n",
      "1.0\n"
     ]
    }
   ],
   "source": [
    "# 3.5.3 소프트맥스 함수의 특징\n",
    "\n",
    "a = np.array([0.3, 2.9, 4.0])\n",
    "y = softmax(a)\n",
    "print(y) # 각 출력값은 0에서 1 사이 실수\n",
    "print(np.sum(y)) # 소프트맥스 함수 출력의 총합은 1\n",
    "\n",
    "# 소프트맥스 함수 적용해도 원소의 대소 관계는 변하지 않음\n",
    "# -> 일반적으로 출력층의 소프트맥스 함수는 지수함수 계산 자원 낭비 절약을 위해 생략한다고 함"
   ]
  },
  {
   "cell_type": "code",
   "execution_count": 37,
   "metadata": {},
   "outputs": [],
   "source": [
    "# 3.5.4 출력층의 뉴런 수 - 풀리는 문제에 맞게 - 분류에서는 분류하고 싶은 클래스 수로 설정하는게 일반적"
   ]
  },
  {
   "cell_type": "markdown",
   "metadata": {},
   "source": [
    "# 3.6 손글씨 숫자 인식\n",
    "* 미리 학습된 매개변수를 사용하여 추론 과정 - 순전파 (forward propagation) - 만 구현 (학습 과정은 생략)"
   ]
  },
  {
   "cell_type": "markdown",
   "metadata": {},
   "source": [
    "### 3.6.1 MNIST 데이터셋\n",
    "\n",
    "* 훈련 이미지 60,000장, 시험 이미지 10,000장\n",
    "* 28x28 회색조 이미지 (0~255)\n",
    "\n",
    "* MNIST 데이터셋 관련된 함수는 예제 소스에 있는 dataset/mnist.py 파일을 import해서 사용"
   ]
  },
  {
   "cell_type": "code",
   "execution_count": 42,
   "metadata": {},
   "outputs": [
    {
     "name": "stdout",
     "output_type": "stream",
     "text": [
      "(60000, 784)\n",
      "(60000,)\n",
      "(10000, 784)\n",
      "(10000,)\n"
     ]
    }
   ],
   "source": [
    "import sys, os\n",
    "sys.path.append(os.pardir) # 부모 디렉토리의 파일 가져올 수 잇도록 설정\n",
    "from src.dataset.mnist import load_mnist # 예제 소스 디렉토리 구조에 맞게 변경\n",
    "\n",
    "# 처음 한 번은 몇 분 정도 걸린다고 함 => 예제 소스에 .pkl 파일이 있어서 바로 로드 가능\n",
    "# 함수 내 인수 설명:\n",
    "# noramlize: 입력이미지의 픽셀값을 0~1사이값으로 정규화할지 (False이면 0~255 사이값 유지)\n",
    "# flatten: 입력이미지를 1차원 배열로 (평탄하게) 만들지 여부\n",
    "# one_hot_label: 레이블을 one-hot encoding 형태로 저장할지 여부\n",
    "(x_train, t_train), (x_test, t_test) = \\\n",
    "    load_mnist(flatten=True, normalize=False)\n",
    "\n",
    "# 각 데이터의 형상 출력\n",
    "print(x_train.shape) # (60000,784)\n",
    "print(t_train.shape) # (60000,)\n",
    "print(x_test.shape) # (10000,784)\n",
    "print(t_test.shape) # (10000,)"
   ]
  },
  {
   "cell_type": "code",
   "execution_count": 85,
   "metadata": {},
   "outputs": [
    {
     "name": "stdout",
     "output_type": "stream",
     "text": [
      "5\n",
      "(784,)\n",
      "(28, 28)\n"
     ]
    },
    {
     "data": {
      "image/png": "[encoded data removed]",
      "text/plain": [
       "<PIL.Image.Image image mode=L size=28x28 at 0x11FE22048>"
      ]
     },
     "metadata": {},
     "output_type": "display_data"
    },
    {
     "data": {
      "image/png": "[encoded data removed]",
      "text/plain": [
       "<Figure size 360x360 with 1 Axes>"
      ]
     },
     "metadata": {
      "needs_background": "light"
     },
     "output_type": "display_data"
    }
   ],
   "source": [
    "# MNIST 화면으로 읽기\n",
    "# 원래 소스는 .py 단위로 나뉘어져 각각 load_mnist 등 기능을 작성해야 하지만,\n",
    "# Jupyter Notebook에서는 이미 위에서 실행한 내용이므로 중복 부분은 생략\n",
    "\n",
    "from PIL import Image\n",
    "\n",
    "def img_show(img, show_option=1):\n",
    "    pil_img = Image.fromarray(np.uint8(img))\n",
    "    figsize(10, 10)\n",
    "    if show_option==1:\n",
    "        # 팝업 윈도우로 띄움. 교재에 나온 방식\n",
    "        pil_img.show()\n",
    "    elif show_option==2:\n",
    "        # Jupyter Notebook에 표시. 크기 조정이 어려움\n",
    "        display(pil_img)\n",
    "    elif show_option==3:\n",
    "        # matplotlib imshow 사용. 크기 조정이 가능\n",
    "        plt.figure(figsize=(5,5))\n",
    "        plt.imshow(pil_img)\n",
    "        plt.show()\n",
    "    \n",
    "img = x_train[0]\n",
    "label = t_train[0]\n",
    "print(label) # 5\n",
    "\n",
    "print(img.shape) # (784,) <- 28x28 image가 flatten 처리됨\n",
    "img = img.reshape(28, 28) # 원래 이미지로 변환\n",
    "print(img.shape) # (28,28)\n",
    "\n",
    "img_show(img, show_option=1)\n",
    "img_show(img, show_option=2)\n",
    "img_show(img, show_option=3)"
   ]
  },
  {
   "cell_type": "code",
   "execution_count": 75,
   "metadata": {},
   "outputs": [],
   "source": [
    "# 3.6.2 신경망의 추론 처리\n",
    "\n",
    "# 추론 작업을 처리해줄 함수 정의\n",
    "import pickle\n",
    "\n",
    "def get_data():\n",
    "    # 이미지 불러올때 normalize=True 설정 => 전처리로 정규화 수행한 효과\n",
    "    (x_train, t_train), (x_test, t_test) = \\\n",
    "        load_mnist(normalize=True, flatten=True, one_hot_label=False)\n",
    "    return x_test, t_test\n",
    "\n",
    "def init_network():\n",
    "    # 예제 소스 위치에 맞춰 파일경로 변경\n",
    "    with open(\"../src/ch03/sample_weight.pkl\", 'rb') as f:\n",
    "        network = pickle.load(f)\n",
    "        \n",
    "    return network\n",
    "\n",
    "def predict(network, x):\n",
    "    W1, W2, W3 = network['W1'], network['W2'], network['W3']\n",
    "    b1, b2, b3 = network['b1'], network['b2'], network['b3']\n",
    "    \n",
    "    a1 = np.dot(x, W1) + b1\n",
    "    z1 = sigmoid(a1)\n",
    "    a2 = np.dot(z1, W2) + b2\n",
    "    z2 = sigmoid(a2)\n",
    "    a3 = np.dot(z2, W3) + b3\n",
    "    y = softmax(a3)\n",
    "    \n",
    "    return y"
   ]
  },
  {
   "cell_type": "code",
   "execution_count": 76,
   "metadata": {},
   "outputs": [
    {
     "name": "stdout",
     "output_type": "stream",
     "text": [
      "Accuracy:0.9352\n"
     ]
    }
   ],
   "source": [
    "# 테스트셋 각각에 대해 추론 수행 후 정확도 측정\n",
    "\n",
    "x, t = get_data()\n",
    "network = init_network()\n",
    "\n",
    "accuracy_cnt = 0\n",
    "for i in range(len(x)):\n",
    "    y = predict(network, x[i])\n",
    "    p = np.argmax(y) # 확률이 가장 높은 원소의 인덱스를 얻는다\n",
    "    if p == t[i]:\n",
    "        accuracy_cnt += 1\n",
    "\n",
    "print(\"Accuracy:\" + str(float(accuracy_cnt) / len(x)))"
   ]
  },
  {
   "cell_type": "code",
   "execution_count": 78,
   "metadata": {},
   "outputs": [
    {
     "name": "stdout",
     "output_type": "stream",
     "text": [
      "(10000, 784)\n",
      "\n",
      "(784,)\n",
      "(784, 50)\n",
      "(50, 100)\n",
      "(100, 10)\n"
     ]
    }
   ],
   "source": [
    "# 3.6.3 배치 처리\n",
    "\n",
    "# 앞서 구현한 신경망 각 층의 가중치 형상 출력\n",
    "x, _ = get_data()\n",
    "network = init_network()\n",
    "W1, W2, W3 = network['W1'], network['W2'], network['W3']\n",
    "\n",
    "print(x.shape) # (10000,784)\n",
    "\n",
    "print()\n",
    "\n",
    "print(x[0].shape) # (784,)\n",
    "print(W1.shape) # (784,50)\n",
    "print(W2.shape) # (50,100)\n",
    "print(W3.shape) # (100,10)\n",
    "\n",
    "# 신경망 각 층의 배열 형상의 추이에서 각 이전 열과 다음 행의 원소 수가 일치하는 것을 확인"
   ]
  },
  {
   "cell_type": "code",
   "execution_count": 80,
   "metadata": {},
   "outputs": [
    {
     "name": "stdout",
     "output_type": "stream",
     "text": [
      "Accuracy:0.9352 (9352/10000)\n"
     ]
    }
   ],
   "source": [
    "# 입력 x의 형상을 (784,)에서 (N x 784)로 바꿔 N장 분량의 데이터를 하나의 입력으로 표현해도\n",
    "# 출력 데이터의 형상은 (N x 100)이 되어 N장 분량 입력데이터의 결과가 한번에 출력됨\n",
    "\n",
    "# ==> 이렇게 하나로 묶은 입력 데이터를 배치(batch)라고 함\n",
    "# NOTE: 배치 처리의 이점\n",
    "# 1. 수치 계산 라이브러리 대부분이 큰 배열을 효율적으로 처리할 수 있도록 고도로 최적화되어 있음\n",
    "# 2. 배치 처리를 통해 느린 I/O로 데이터를 읽는 횟수를 줄여 빠른 CPU/GPU로 순수 계산 수행하는 비율을 높여줌\n",
    "\n",
    "# 배치 처리 구현\n",
    "\n",
    "x, t = get_data()\n",
    "network = init_network()\n",
    "\n",
    "batch_size = 100 # 배치 크기\n",
    "accuracy_cnt = 0\n",
    "\n",
    "for i in range(0, len(x), batch_size): # i를 batch_size만큼 증가시켜가면서\n",
    "    x_batch = x[i:i+batch_size] \n",
    "    y_batch = predict(network, x_batch)\n",
    "    p = np.argmax(y_batch, axis=1) # 100x10 배열에서 1번째 차원(가로 또는 열 방향) 구성 원소 중에 최대값 인덱스 찾기\n",
    "    accuracy_cnt += np.sum(p == t[i:i+batch_size]) # 실제 답(t)의 해당 배치 부분의 정답과 넘파이배열끼리 비교해서 True가 몇개인지 세기\n",
    "    \n",
    "print(\"Accuracy:\" + str(float(accuracy_cnt) / len(x)) + \" (%d/%d)\" % (accuracy_cnt, len(x)))"
   ]
  },
  {
   "cell_type": "code",
   "execution_count": 81,
   "metadata": {},
   "outputs": [
    {
     "name": "stdout",
     "output_type": "stream",
     "text": [
      "[0, 1, 2, 3, 4, 5, 6, 7, 8, 9]\n",
      "[0, 3, 6, 9]\n"
     ]
    }
   ],
   "source": [
    "# range()함수 이해용\n",
    "print(list(range(0, 10)))\n",
    "print(list(range(0, 10, 3)))"
   ]
  },
  {
   "cell_type": "code",
   "execution_count": 83,
   "metadata": {},
   "outputs": [
    {
     "name": "stdout",
     "output_type": "stream",
     "text": [
      "[1 2 1 0]\n"
     ]
    }
   ],
   "source": [
    "# np.argmax() 이해용\n",
    "x = np.array([[0.1,0.8,0.1],\n",
    "              [0.3,0.1,0.6],\n",
    "              [0.2,0.5,0.3],\n",
    "              [0.8,0.1,0.1]\n",
    "             ])\n",
    "y = np.argmax(x, axis=1)\n",
    "print(y)"
   ]
  },
  {
   "cell_type": "code",
   "execution_count": 84,
   "metadata": {},
   "outputs": [
    {
     "name": "stdout",
     "output_type": "stream",
     "text": [
      "[ True  True False  True]\n"
     ]
    },
    {
     "data": {
      "text/plain": [
       "3"
      ]
     },
     "execution_count": 84,
     "metadata": {},
     "output_type": "execute_result"
    }
   ],
   "source": [
    "# 넘파이배열 == 연산자 적용 이해\n",
    "y = np.array([1, 2, 1, 0])\n",
    "t = np.array([1, 2, 0, 0])\n",
    "print(y==t)\n",
    "np.sum(y==t)"
   ]
  },
  {
   "cell_type": "markdown",
   "metadata": {},
   "source": [
    "## 3.7 정리\n",
    "* 3장: 신경망의 순전파 이해\n",
    "* 앞 장의 퍼셉트론 대비 활성화 함수에서 차이 => 이 차이가 신경망 학습에 중요. (다음 장에서 공부하자)"
   ]
  }
 ],
 "metadata": {
  "kernelspec": {
   "display_name": "Python 3",
   "language": "python",
   "name": "python3"
  },
  "language_info": {
   "codemirror_mode": {
    "name": "ipython",
    "version": 3
   },
   "file_extension": ".py",
   "mimetype": "text/x-python",
   "name": "python",
   "nbconvert_exporter": "python",
   "pygments_lexer": "ipython3",
   "version": "3.7.1"
  }
 },
 "nbformat": 4,
 "nbformat_minor": 2
}
